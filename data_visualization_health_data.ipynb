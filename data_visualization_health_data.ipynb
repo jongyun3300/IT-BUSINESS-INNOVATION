{
  "nbformat": 4,
  "nbformat_minor": 0,
  "metadata": {
    "colab": {
      "provenance": [],
      "mount_file_id": "1vZDVGOLKOly8TQy5mW5EX23aVQ_4zLdd",
      "authorship_tag": "ABX9TyOIgDqyuvFZdnxixxTihoZM",
      "include_colab_link": true
    },
    "kernelspec": {
      "name": "python3",
      "display_name": "Python 3"
    },
    "language_info": {
      "name": "python"
    }
  },
  "cells": [
    {
      "cell_type": "markdown",
      "metadata": {
        "id": "view-in-github",
        "colab_type": "text"
      },
      "source": [
        "<a href=\"https://colab.research.google.com/github/jongyun3300/IT-BUSINESS-INNOVATION/blob/main/data_visualization_health_data.ipynb\" target=\"_parent\"><img src=\"https://colab.research.google.com/assets/colab-badge.svg\" alt=\"Open In Colab\"/></a>"
      ]
    },
    {
      "cell_type": "markdown",
      "source": [
        "##0. 데이터 불러오기"
      ],
      "metadata": {
        "id": "H9g_pBoDI33e"
      }
    },
    {
      "cell_type": "code",
      "execution_count": null,
      "metadata": {
        "colab": {
          "base_uri": "https://localhost:8080/"
        },
        "id": "yzgpHH_3IAhx",
        "outputId": "d928a83c-164c-41f2-96be-4589c145b3ea"
      },
      "outputs": [
        {
          "output_type": "stream",
          "name": "stdout",
          "text": [
            "Drive already mounted at /content/drive; to attempt to forcibly remount, call drive.mount(\"/content/drive\", force_remount=True).\n"
          ]
        }
      ],
      "source": [
        "from google.colab import drive\n",
        "drive.mount('/content/drive')"
      ]
    },
    {
      "cell_type": "code",
      "source": [
        "import pandas as pd\n",
        "import matplotlib.pyplot as plt\n",
        "import seaborn as sns"
      ],
      "metadata": {
        "id": "mjV48uN05aFg"
      },
      "execution_count": null,
      "outputs": []
    },
    {
      "cell_type": "code",
      "source": [
        "data=pd.read_csv('/content/drive/MyDrive/Colab Notebooks/ITB_22/ITB_data/health_data.csv', encoding='utf-8')"
      ],
      "metadata": {
        "id": "MMXhEbLN6Yw3"
      },
      "execution_count": null,
      "outputs": []
    },
    {
      "cell_type": "code",
      "source": [
        "data.columns"
      ],
      "metadata": {
        "id": "ozfSOHvI6gS7",
        "colab": {
          "base_uri": "https://localhost:8080/"
        },
        "outputId": "2c47a697-5101-41ee-8ee5-84b7ddd308b9"
      },
      "execution_count": null,
      "outputs": [
        {
          "output_type": "execute_result",
          "data": {
            "text/plain": [
              "Index(['가입자일련번호', '시도코드', '성별코드', '연령대코드(5세단위)', '신장(5Cm단위)', '체중(5Kg 단위)',\n",
              "       '허리둘레', '시력(좌)', '시력(우)', '청력(좌)', '청력(우)', '수축기혈압', '이완기혈압',\n",
              "       '식전혈당(공복혈당)', '총콜레스테롤', '트리글리세라이드', 'HDL콜레스테롤', 'LDL콜레스테롤', '혈색소',\n",
              "       '요단백', '혈청크레아티닌', '(혈청지오티)AST', '(혈청지오티)ALT', '감마지티피', '흡연상태', '음주여부',\n",
              "       '구강검진수검여부', '치아우식증유무', '치석'],\n",
              "      dtype='object')"
            ]
          },
          "metadata": {},
          "execution_count": 4
        }
      ]
    },
    {
      "cell_type": "markdown",
      "source": [
        "## 1. 연령대별 고지혈증 환자와 당뇨 환자의 비교\n"
      ],
      "metadata": {
        "id": "MRMq1lr7HtR8"
      }
    },
    {
      "cell_type": "code",
      "source": [
        "#고지혈증 = 총콜레스테롤 240mg/dl, 중성지방 200mg/dl, LDL콜레스테롤 160mg/dl 이상인 경우\n",
        "#당뇨 = 공복혈당 126 mg/dL 이상인 경우"
      ],
      "metadata": {
        "id": "2gtLu1WKwlid"
      },
      "execution_count": null,
      "outputs": []
    },
    {
      "cell_type": "code",
      "source": [
        "H1=data[['식전혈당(공복혈당)', '총콜레스테롤', '트리글리세라이드', 'LDL콜레스테롤','연령대코드(5세단위)']]"
      ],
      "metadata": {
        "id": "m4QI8UeRLRFc"
      },
      "execution_count": null,
      "outputs": []
    },
    {
      "cell_type": "code",
      "source": [
        "import numpy as np\n",
        "H1['BM'] = np.where(H1['식전혈당(공복혈당)']>=126, 1, 0)\n",
        "H1['BM']"
      ],
      "metadata": {
        "colab": {
          "base_uri": "https://localhost:8080/"
        },
        "id": "w4F10_rDcwqy",
        "outputId": "3add1cea-ede4-45cd-d55b-66eda30a0add"
      },
      "execution_count": null,
      "outputs": [
        {
          "output_type": "stream",
          "name": "stderr",
          "text": [
            "/usr/local/lib/python3.7/dist-packages/ipykernel_launcher.py:2: SettingWithCopyWarning: \n",
            "A value is trying to be set on a copy of a slice from a DataFrame.\n",
            "Try using .loc[row_indexer,col_indexer] = value instead\n",
            "\n",
            "See the caveats in the documentation: https://pandas.pydata.org/pandas-docs/stable/user_guide/indexing.html#returning-a-view-versus-a-copy\n",
            "  \n"
          ]
        },
        {
          "output_type": "execute_result",
          "data": {
            "text/plain": [
              "0       0\n",
              "1       0\n",
              "2       0\n",
              "3       1\n",
              "4       0\n",
              "       ..\n",
              "9995    0\n",
              "9996    0\n",
              "9997    0\n",
              "9998    0\n",
              "9999    0\n",
              "Name: BM, Length: 10000, dtype: int64"
            ]
          },
          "metadata": {},
          "execution_count": 146
        }
      ]
    },
    {
      "cell_type": "code",
      "source": [
        "H1['HL'] = np.where((H1['총콜레스테롤']>=240) | (H1['트리글리세라이드']>=200) | (H1['LDL콜레스테롤']>=160), 1, 0)\n",
        "H1['HL']"
      ],
      "metadata": {
        "colab": {
          "base_uri": "https://localhost:8080/"
        },
        "id": "DvIIOozcco4b",
        "outputId": "3e91fadd-02c2-426d-99e2-d19dbf2767ee"
      },
      "execution_count": null,
      "outputs": [
        {
          "output_type": "stream",
          "name": "stderr",
          "text": [
            "/usr/local/lib/python3.7/dist-packages/ipykernel_launcher.py:1: SettingWithCopyWarning: \n",
            "A value is trying to be set on a copy of a slice from a DataFrame.\n",
            "Try using .loc[row_indexer,col_indexer] = value instead\n",
            "\n",
            "See the caveats in the documentation: https://pandas.pydata.org/pandas-docs/stable/user_guide/indexing.html#returning-a-view-versus-a-copy\n",
            "  \"\"\"Entry point for launching an IPython kernel.\n"
          ]
        },
        {
          "output_type": "execute_result",
          "data": {
            "text/plain": [
              "0       0\n",
              "1       0\n",
              "2       0\n",
              "3       0\n",
              "4       0\n",
              "       ..\n",
              "9995    0\n",
              "9996    0\n",
              "9997    0\n",
              "9998    0\n",
              "9999    0\n",
              "Name: HL, Length: 10000, dtype: int64"
            ]
          },
          "metadata": {},
          "execution_count": 147
        }
      ]
    },
    {
      "cell_type": "code",
      "source": [
        "H1.rename (columns = {'연령대코드(5세단위)':'Age'},inplace=True)"
      ],
      "metadata": {
        "colab": {
          "base_uri": "https://localhost:8080/"
        },
        "id": "bsL7hlSHrvlO",
        "outputId": "11da1656-0b6d-49f5-8552-8895ecd7ec9b"
      },
      "execution_count": null,
      "outputs": [
        {
          "output_type": "stream",
          "name": "stderr",
          "text": [
            "/usr/local/lib/python3.7/dist-packages/pandas/core/frame.py:5047: SettingWithCopyWarning: \n",
            "A value is trying to be set on a copy of a slice from a DataFrame\n",
            "\n",
            "See the caveats in the documentation: https://pandas.pydata.org/pandas-docs/stable/user_guide/indexing.html#returning-a-view-versus-a-copy\n",
            "  errors=errors,\n"
          ]
        }
      ]
    },
    {
      "cell_type": "code",
      "source": [
        "H1_f=H1[['BM','HL','Age']]"
      ],
      "metadata": {
        "id": "NFFkp0-sidrE"
      },
      "execution_count": null,
      "outputs": []
    },
    {
      "cell_type": "code",
      "source": [
        "plt.tight_layout()\n",
        "\n",
        "plt.subplot(1, 2, 1)\n",
        "sns.countplot(data=df, x=H1_f['Age'], hue=H1_f[\"BM\"])\n",
        "\n",
        "plt.subplot(1, 2, 2)\n",
        "sns.countplot(data=df, x=H1_f['Age'], hue=H1_f[\"HL\"])\n",
        "\n",
        "plt.show()"
      ],
      "metadata": {
        "colab": {
          "base_uri": "https://localhost:8080/",
          "height": 279
        },
        "id": "rhIQykDUptb0",
        "outputId": "b05eddcc-2911-4d5d-d076-b679957b6546"
      },
      "execution_count": 186,
      "outputs": [
        {
          "output_type": "display_data",
          "data": {
            "text/plain": [
              "<Figure size 432x288 with 2 Axes>"
            ],
            "image/png": "[encoded data removed]"
          },
          "metadata": {
            "needs_background": "light"
          }
        }
      ]
    },
    {
      "cell_type": "markdown",
      "source": [
        "우선 공복혈당으로 당뇨여부를 확인하고, 총콜레스테롤, 트리글리세라이드, LDL콜레스테롤 수치를 통해서 고지혈증 여부를 파악할 수 있다. 이를 통해서 당뇨는 BM, 고지혈증은 HL로 데이터를 전처리 하였고, 이를 그래프로 나타내었디. 다만, 원래는 \"hue\"에 해당하는 값에 당뇨에 해당하는 BM 1 값과 HL 1 값을 삽입하고자 하였으나 이 부분은 역량 부족으로 하나의 그래프로 나타내지는 못하였다. 상기 그래프를 통해서 연령대에 띠라서 비교적 완만하게 진행되는 당뇨와 달리 고지혈증은 40세의 젊은 나이에서도 많이 발병되고 있으며, 당뇨에 비해 고지혈증 환자수가 많은 것 또한 확인할 수 있다. 이를 통해서 당수치보다 콜레스테롤 수치는 더 일찍부터 관리가 필요하다는 것도 예측할 수 있다."
      ],
      "metadata": {
        "id": "PzdP_CrUutxB"
      }
    },
    {
      "cell_type": "markdown",
      "source": [
        "## 2. 음주여부와 간수치(혈청크레아티닌,AST,ALT)의 상관관계"
      ],
      "metadata": {
        "id": "XDs28ZeLIiqG"
      }
    },
    {
      "cell_type": "code",
      "source": [
        "H2_X=data[['혈청크레아티닌','(혈청지오티)AST', '(혈청지오티)ALT']]"
      ],
      "metadata": {
        "id": "2Sd5-XAANJxG"
      },
      "execution_count": null,
      "outputs": []
    },
    {
      "cell_type": "code",
      "source": [
        "from sklearn.preprocessing import StandardScaler"
      ],
      "metadata": {
        "id": "B4cBCFEAN8Tn"
      },
      "execution_count": null,
      "outputs": []
    },
    {
      "cell_type": "code",
      "source": [
        "scaler1=StandardScaler()"
      ],
      "metadata": {
        "id": "BaENM6uQP3jV"
      },
      "execution_count": null,
      "outputs": []
    },
    {
      "cell_type": "code",
      "source": [
        "scaler1.fit(H2_X)"
      ],
      "metadata": {
        "colab": {
          "base_uri": "https://localhost:8080/"
        },
        "id": "ayK2i3aeP6Xm",
        "outputId": "1c9648c8-6f20-4562-c55f-f099148a92ba"
      },
      "execution_count": null,
      "outputs": [
        {
          "output_type": "execute_result",
          "data": {
            "text/plain": [
              "StandardScaler()"
            ]
          },
          "metadata": {},
          "execution_count": 10
        }
      ]
    },
    {
      "cell_type": "code",
      "source": [
        "H2_X_scaled1=scaler1.transform(H2_X)"
      ],
      "metadata": {
        "id": "cgw8FJIdP-F0"
      },
      "execution_count": null,
      "outputs": []
    },
    {
      "cell_type": "code",
      "source": [
        "H2_X_scaled=pd.DataFrame(H2_X_scaled1)"
      ],
      "metadata": {
        "id": "Rb6kZRT4QBcu"
      },
      "execution_count": null,
      "outputs": []
    },
    {
      "cell_type": "code",
      "source": [
        "H2_X_scaled.columns=['CREATININE','SGOT_AST', 'SGPT_ALT']"
      ],
      "metadata": {
        "id": "LCTjryDHQKMG"
      },
      "execution_count": null,
      "outputs": []
    },
    {
      "cell_type": "code",
      "source": [
        "H2_X_scaled"
      ],
      "metadata": {
        "colab": {
          "base_uri": "https://localhost:8080/",
          "height": 424
        },
        "id": "pOFc99kEdy_q",
        "outputId": "1f0db41d-664e-4ad6-843a-7b31451b3d68"
      },
      "execution_count": null,
      "outputs": [
        {
          "output_type": "execute_result",
          "data": {
            "text/plain": [
              "      CREATININE  SGOT_AST  SGPT_ALT\n",
              "0       0.835611 -0.368484  0.008854\n",
              "1      -1.157765 -0.536236 -0.496739\n",
              "2      -0.493306 -0.032980 -0.075411\n",
              "3       1.167841  2.091882  2.958149\n",
              "4      -0.493306 -0.536236 -0.412474\n",
              "...          ...       ...       ...\n",
              "9995   -0.493306 -0.424401 -0.243942\n",
              "9996   -0.493306 -0.200732 -0.201810\n",
              "9997    0.503382 -0.312567  0.008854\n",
              "9998    0.503382 -0.088897 -0.117544\n",
              "9999   -0.825536  0.246608 -0.117544\n",
              "\n",
              "[10000 rows x 3 columns]"
            ],
            "text/html": [
              "\n",
              "  <div id=\"df-3878b709-9ce5-4ff2-84fe-c99c1efc970b\">\n",
              "    <div class=\"colab-df-container\">\n",
              "      <div>\n",
              "<style scoped>\n",
              "    .dataframe tbody tr th:only-of-type {\n",
              "        vertical-align: middle;\n",
              "    }\n",
              "\n",
              "    .dataframe tbody tr th {\n",
              "        vertical-align: top;\n",
              "    }\n",
              "\n",
              "    .dataframe thead th {\n",
              "        text-align: right;\n",
              "    }\n",
              "</style>\n",
              "<table border=\"1\" class=\"dataframe\">\n",
              "  <thead>\n",
              "    <tr style=\"text-align: right;\">\n",
              "      <th></th>\n",
              "      <th>CREATININE</th>\n",
              "      <th>SGOT_AST</th>\n",
              "      <th>SGPT_ALT</th>\n",
              "    </tr>\n",
              "  </thead>\n",
              "  <tbody>\n",
              "    <tr>\n",
              "      <th>0</th>\n",
              "      <td>0.835611</td>\n",
              "      <td>-0.368484</td>\n",
              "      <td>0.008854</td>\n",
              "    </tr>\n",
              "    <tr>\n",
              "      <th>1</th>\n",
              "      <td>-1.157765</td>\n",
              "      <td>-0.536236</td>\n",
              "      <td>-0.496739</td>\n",
              "    </tr>\n",
              "    <tr>\n",
              "      <th>2</th>\n",
              "      <td>-0.493306</td>\n",
              "      <td>-0.032980</td>\n",
              "      <td>-0.075411</td>\n",
              "    </tr>\n",
              "    <tr>\n",
              "      <th>3</th>\n",
              "      <td>1.167841</td>\n",
              "      <td>2.091882</td>\n",
              "      <td>2.958149</td>\n",
              "    </tr>\n",
              "    <tr>\n",
              "      <th>4</th>\n",
              "      <td>-0.493306</td>\n",
              "      <td>-0.536236</td>\n",
              "      <td>-0.412474</td>\n",
              "    </tr>\n",
              "    <tr>\n",
              "      <th>...</th>\n",
              "      <td>...</td>\n",
              "      <td>...</td>\n",
              "      <td>...</td>\n",
              "    </tr>\n",
              "    <tr>\n",
              "      <th>9995</th>\n",
              "      <td>-0.493306</td>\n",
              "      <td>-0.424401</td>\n",
              "      <td>-0.243942</td>\n",
              "    </tr>\n",
              "    <tr>\n",
              "      <th>9996</th>\n",
              "      <td>-0.493306</td>\n",
              "      <td>-0.200732</td>\n",
              "      <td>-0.201810</td>\n",
              "    </tr>\n",
              "    <tr>\n",
              "      <th>9997</th>\n",
              "      <td>0.503382</td>\n",
              "      <td>-0.312567</td>\n",
              "      <td>0.008854</td>\n",
              "    </tr>\n",
              "    <tr>\n",
              "      <th>9998</th>\n",
              "      <td>0.503382</td>\n",
              "      <td>-0.088897</td>\n",
              "      <td>-0.117544</td>\n",
              "    </tr>\n",
              "    <tr>\n",
              "      <th>9999</th>\n",
              "      <td>-0.825536</td>\n",
              "      <td>0.246608</td>\n",
              "      <td>-0.117544</td>\n",
              "    </tr>\n",
              "  </tbody>\n",
              "</table>\n",
              "<p>10000 rows × 3 columns</p>\n",
              "</div>\n",
              "      <button class=\"colab-df-convert\" onclick=\"convertToInteractive('df-3878b709-9ce5-4ff2-84fe-c99c1efc970b')\"\n",
              "              title=\"Convert this dataframe to an interactive table.\"\n",
              "              style=\"display:none;\">\n",
              "        \n",
              "  <svg xmlns=\"http://www.w3.org/2000/svg\" height=\"24px\"viewBox=\"0 0 24 24\"\n",
              "       width=\"24px\">\n",
              "    <path d=\"M0 0h24v24H0V0z\" fill=\"none\"/>\n",
              "    <path d=\"M18.56 5.44l.94 2.06.94-2.06 2.06-.94-2.06-.94-.94-2.06-.94 2.06-2.06.94zm-11 1L8.5 8.5l.94-2.06 2.06-.94-2.06-.94L8.5 2.5l-.94 2.06-2.06.94zm10 10l.94 2.06.94-2.06 2.06-.94-2.06-.94-.94-2.06-.94 2.06-2.06.94z\"/><path d=\"M17.41 7.96l-1.37-1.37c-.4-.4-.92-.59-1.43-.59-.52 0-1.04.2-1.43.59L10.3 9.45l-7.72 7.72c-.78.78-.78 2.05 0 2.83L4 21.41c.39.39.9.59 1.41.59.51 0 1.02-.2 1.41-.59l7.78-7.78 2.81-2.81c.8-.78.8-2.07 0-2.86zM5.41 20L4 18.59l7.72-7.72 1.47 1.35L5.41 20z\"/>\n",
              "  </svg>\n",
              "      </button>\n",
              "      \n",
              "  <style>\n",
              "    .colab-df-container {\n",
              "      display:flex;\n",
              "      flex-wrap:wrap;\n",
              "      gap: 12px;\n",
              "    }\n",
              "\n",
              "    .colab-df-convert {\n",
              "      background-color: #E8F0FE;\n",
              "      border: none;\n",
              "      border-radius: 50%;\n",
              "      cursor: pointer;\n",
              "      display: none;\n",
              "      fill: #1967D2;\n",
              "      height: 32px;\n",
              "      padding: 0 0 0 0;\n",
              "      width: 32px;\n",
              "    }\n",
              "\n",
              "    .colab-df-convert:hover {\n",
              "      background-color: #E2EBFA;\n",
              "      box-shadow: 0px 1px 2px rgba(60, 64, 67, 0.3), 0px 1px 3px 1px rgba(60, 64, 67, 0.15);\n",
              "      fill: #174EA6;\n",
              "    }\n",
              "\n",
              "    [theme=dark] .colab-df-convert {\n",
              "      background-color: #3B4455;\n",
              "      fill: #D2E3FC;\n",
              "    }\n",
              "\n",
              "    [theme=dark] .colab-df-convert:hover {\n",
              "      background-color: #434B5C;\n",
              "      box-shadow: 0px 1px 3px 1px rgba(0, 0, 0, 0.15);\n",
              "      filter: drop-shadow(0px 1px 2px rgba(0, 0, 0, 0.3));\n",
              "      fill: #FFFFFF;\n",
              "    }\n",
              "  </style>\n",
              "\n",
              "      <script>\n",
              "        const buttonEl =\n",
              "          document.querySelector('#df-3878b709-9ce5-4ff2-84fe-c99c1efc970b button.colab-df-convert');\n",
              "        buttonEl.style.display =\n",
              "          google.colab.kernel.accessAllowed ? 'block' : 'none';\n",
              "\n",
              "        async function convertToInteractive(key) {\n",
              "          const element = document.querySelector('#df-3878b709-9ce5-4ff2-84fe-c99c1efc970b');\n",
              "          const dataTable =\n",
              "            await google.colab.kernel.invokeFunction('convertToInteractive',\n",
              "                                                     [key], {});\n",
              "          if (!dataTable) return;\n",
              "\n",
              "          const docLinkHtml = 'Like what you see? Visit the ' +\n",
              "            '<a target=\"_blank\" href=https://colab.research.google.com/notebooks/data_table.ipynb>data table notebook</a>'\n",
              "            + ' to learn more about interactive tables.';\n",
              "          element.innerHTML = '';\n",
              "          dataTable['output_type'] = 'display_data';\n",
              "          await google.colab.output.renderOutput(dataTable, element);\n",
              "          const docLink = document.createElement('div');\n",
              "          docLink.innerHTML = docLinkHtml;\n",
              "          element.appendChild(docLink);\n",
              "        }\n",
              "      </script>\n",
              "    </div>\n",
              "  </div>\n",
              "  "
            ]
          },
          "metadata": {},
          "execution_count": 14
        }
      ]
    },
    {
      "cell_type": "code",
      "source": [
        "H2_y=data[['음주여부']]"
      ],
      "metadata": {
        "id": "pP9CxmATNovi"
      },
      "execution_count": null,
      "outputs": []
    },
    {
      "cell_type": "code",
      "source": [
        "H2_y.columns=['DRINK']"
      ],
      "metadata": {
        "id": "wN7MpUANgOdT"
      },
      "execution_count": null,
      "outputs": []
    },
    {
      "cell_type": "code",
      "source": [
        "H2_y['DRINK'] = H2_y['DRINK'].replace(['No','Yes'], [0,1])"
      ],
      "metadata": {
        "colab": {
          "base_uri": "https://localhost:8080/"
        },
        "id": "vmQkjXsjN56F",
        "outputId": "7fb4b500-3e2a-4e64-d654-14337fb09da2"
      },
      "execution_count": null,
      "outputs": [
        {
          "output_type": "stream",
          "name": "stderr",
          "text": [
            "/usr/local/lib/python3.7/dist-packages/ipykernel_launcher.py:1: SettingWithCopyWarning: \n",
            "A value is trying to be set on a copy of a slice from a DataFrame.\n",
            "Try using .loc[row_indexer,col_indexer] = value instead\n",
            "\n",
            "See the caveats in the documentation: https://pandas.pydata.org/pandas-docs/stable/user_guide/indexing.html#returning-a-view-versus-a-copy\n",
            "  \"\"\"Entry point for launching an IPython kernel.\n"
          ]
        }
      ]
    },
    {
      "cell_type": "code",
      "source": [
        "H2_f=pd.concat([H2_X_scaled, H2_y], axis=1)"
      ],
      "metadata": {
        "id": "-lclxLpzQ8wj"
      },
      "execution_count": null,
      "outputs": []
    },
    {
      "cell_type": "code",
      "source": [
        "H2_f"
      ],
      "metadata": {
        "colab": {
          "base_uri": "https://localhost:8080/",
          "height": 424
        },
        "id": "iGY3B79tPkrs",
        "outputId": "737095c5-dc1a-40d5-ed29-d84a27798043"
      },
      "execution_count": null,
      "outputs": [
        {
          "output_type": "execute_result",
          "data": {
            "text/plain": [
              "      CREATININE  SGOT_AST  SGPT_ALT  DRINK\n",
              "0       0.835611 -0.368484  0.008854    0.0\n",
              "1      -1.157765 -0.536236 -0.496739    0.0\n",
              "2      -0.493306 -0.032980 -0.075411    0.0\n",
              "3       1.167841  2.091882  2.958149    0.0\n",
              "4      -0.493306 -0.536236 -0.412474    0.0\n",
              "...          ...       ...       ...    ...\n",
              "9995   -0.493306 -0.424401 -0.243942    1.0\n",
              "9996   -0.493306 -0.200732 -0.201810    1.0\n",
              "9997    0.503382 -0.312567  0.008854    0.0\n",
              "9998    0.503382 -0.088897 -0.117544    0.0\n",
              "9999   -0.825536  0.246608 -0.117544    1.0\n",
              "\n",
              "[10000 rows x 4 columns]"
            ],
            "text/html": [
              "\n",
              "  <div id=\"df-8ca94357-a97e-4a48-bd9a-d204a91bd4e5\">\n",
              "    <div class=\"colab-df-container\">\n",
              "      <div>\n",
              "<style scoped>\n",
              "    .dataframe tbody tr th:only-of-type {\n",
              "        vertical-align: middle;\n",
              "    }\n",
              "\n",
              "    .dataframe tbody tr th {\n",
              "        vertical-align: top;\n",
              "    }\n",
              "\n",
              "    .dataframe thead th {\n",
              "        text-align: right;\n",
              "    }\n",
              "</style>\n",
              "<table border=\"1\" class=\"dataframe\">\n",
              "  <thead>\n",
              "    <tr style=\"text-align: right;\">\n",
              "      <th></th>\n",
              "      <th>CREATININE</th>\n",
              "      <th>SGOT_AST</th>\n",
              "      <th>SGPT_ALT</th>\n",
              "      <th>DRINK</th>\n",
              "    </tr>\n",
              "  </thead>\n",
              "  <tbody>\n",
              "    <tr>\n",
              "      <th>0</th>\n",
              "      <td>0.835611</td>\n",
              "      <td>-0.368484</td>\n",
              "      <td>0.008854</td>\n",
              "      <td>0.0</td>\n",
              "    </tr>\n",
              "    <tr>\n",
              "      <th>1</th>\n",
              "      <td>-1.157765</td>\n",
              "      <td>-0.536236</td>\n",
              "      <td>-0.496739</td>\n",
              "      <td>0.0</td>\n",
              "    </tr>\n",
              "    <tr>\n",
              "      <th>2</th>\n",
              "      <td>-0.493306</td>\n",
              "      <td>-0.032980</td>\n",
              "      <td>-0.075411</td>\n",
              "      <td>0.0</td>\n",
              "    </tr>\n",
              "    <tr>\n",
              "      <th>3</th>\n",
              "      <td>1.167841</td>\n",
              "      <td>2.091882</td>\n",
              "      <td>2.958149</td>\n",
              "      <td>0.0</td>\n",
              "    </tr>\n",
              "    <tr>\n",
              "      <th>4</th>\n",
              "      <td>-0.493306</td>\n",
              "      <td>-0.536236</td>\n",
              "      <td>-0.412474</td>\n",
              "      <td>0.0</td>\n",
              "    </tr>\n",
              "    <tr>\n",
              "      <th>...</th>\n",
              "      <td>...</td>\n",
              "      <td>...</td>\n",
              "      <td>...</td>\n",
              "      <td>...</td>\n",
              "    </tr>\n",
              "    <tr>\n",
              "      <th>9995</th>\n",
              "      <td>-0.493306</td>\n",
              "      <td>-0.424401</td>\n",
              "      <td>-0.243942</td>\n",
              "      <td>1.0</td>\n",
              "    </tr>\n",
              "    <tr>\n",
              "      <th>9996</th>\n",
              "      <td>-0.493306</td>\n",
              "      <td>-0.200732</td>\n",
              "      <td>-0.201810</td>\n",
              "      <td>1.0</td>\n",
              "    </tr>\n",
              "    <tr>\n",
              "      <th>9997</th>\n",
              "      <td>0.503382</td>\n",
              "      <td>-0.312567</td>\n",
              "      <td>0.008854</td>\n",
              "      <td>0.0</td>\n",
              "    </tr>\n",
              "    <tr>\n",
              "      <th>9998</th>\n",
              "      <td>0.503382</td>\n",
              "      <td>-0.088897</td>\n",
              "      <td>-0.117544</td>\n",
              "      <td>0.0</td>\n",
              "    </tr>\n",
              "    <tr>\n",
              "      <th>9999</th>\n",
              "      <td>-0.825536</td>\n",
              "      <td>0.246608</td>\n",
              "      <td>-0.117544</td>\n",
              "      <td>1.0</td>\n",
              "    </tr>\n",
              "  </tbody>\n",
              "</table>\n",
              "<p>10000 rows × 4 columns</p>\n",
              "</div>\n",
              "      <button class=\"colab-df-convert\" onclick=\"convertToInteractive('df-8ca94357-a97e-4a48-bd9a-d204a91bd4e5')\"\n",
              "              title=\"Convert this dataframe to an interactive table.\"\n",
              "              style=\"display:none;\">\n",
              "        \n",
              "  <svg xmlns=\"http://www.w3.org/2000/svg\" height=\"24px\"viewBox=\"0 0 24 24\"\n",
              "       width=\"24px\">\n",
              "    <path d=\"M0 0h24v24H0V0z\" fill=\"none\"/>\n",
              "    <path d=\"M18.56 5.44l.94 2.06.94-2.06 2.06-.94-2.06-.94-.94-2.06-.94 2.06-2.06.94zm-11 1L8.5 8.5l.94-2.06 2.06-.94-2.06-.94L8.5 2.5l-.94 2.06-2.06.94zm10 10l.94 2.06.94-2.06 2.06-.94-2.06-.94-.94-2.06-.94 2.06-2.06.94z\"/><path d=\"M17.41 7.96l-1.37-1.37c-.4-.4-.92-.59-1.43-.59-.52 0-1.04.2-1.43.59L10.3 9.45l-7.72 7.72c-.78.78-.78 2.05 0 2.83L4 21.41c.39.39.9.59 1.41.59.51 0 1.02-.2 1.41-.59l7.78-7.78 2.81-2.81c.8-.78.8-2.07 0-2.86zM5.41 20L4 18.59l7.72-7.72 1.47 1.35L5.41 20z\"/>\n",
              "  </svg>\n",
              "      </button>\n",
              "      \n",
              "  <style>\n",
              "    .colab-df-container {\n",
              "      display:flex;\n",
              "      flex-wrap:wrap;\n",
              "      gap: 12px;\n",
              "    }\n",
              "\n",
              "    .colab-df-convert {\n",
              "      background-color: #E8F0FE;\n",
              "      border: none;\n",
              "      border-radius: 50%;\n",
              "      cursor: pointer;\n",
              "      display: none;\n",
              "      fill: #1967D2;\n",
              "      height: 32px;\n",
              "      padding: 0 0 0 0;\n",
              "      width: 32px;\n",
              "    }\n",
              "\n",
              "    .colab-df-convert:hover {\n",
              "      background-color: #E2EBFA;\n",
              "      box-shadow: 0px 1px 2px rgba(60, 64, 67, 0.3), 0px 1px 3px 1px rgba(60, 64, 67, 0.15);\n",
              "      fill: #174EA6;\n",
              "    }\n",
              "\n",
              "    [theme=dark] .colab-df-convert {\n",
              "      background-color: #3B4455;\n",
              "      fill: #D2E3FC;\n",
              "    }\n",
              "\n",
              "    [theme=dark] .colab-df-convert:hover {\n",
              "      background-color: #434B5C;\n",
              "      box-shadow: 0px 1px 3px 1px rgba(0, 0, 0, 0.15);\n",
              "      filter: drop-shadow(0px 1px 2px rgba(0, 0, 0, 0.3));\n",
              "      fill: #FFFFFF;\n",
              "    }\n",
              "  </style>\n",
              "\n",
              "      <script>\n",
              "        const buttonEl =\n",
              "          document.querySelector('#df-8ca94357-a97e-4a48-bd9a-d204a91bd4e5 button.colab-df-convert');\n",
              "        buttonEl.style.display =\n",
              "          google.colab.kernel.accessAllowed ? 'block' : 'none';\n",
              "\n",
              "        async function convertToInteractive(key) {\n",
              "          const element = document.querySelector('#df-8ca94357-a97e-4a48-bd9a-d204a91bd4e5');\n",
              "          const dataTable =\n",
              "            await google.colab.kernel.invokeFunction('convertToInteractive',\n",
              "                                                     [key], {});\n",
              "          if (!dataTable) return;\n",
              "\n",
              "          const docLinkHtml = 'Like what you see? Visit the ' +\n",
              "            '<a target=\"_blank\" href=https://colab.research.google.com/notebooks/data_table.ipynb>data table notebook</a>'\n",
              "            + ' to learn more about interactive tables.';\n",
              "          element.innerHTML = '';\n",
              "          dataTable['output_type'] = 'display_data';\n",
              "          await google.colab.output.renderOutput(dataTable, element);\n",
              "          const docLink = document.createElement('div');\n",
              "          docLink.innerHTML = docLinkHtml;\n",
              "          element.appendChild(docLink);\n",
              "        }\n",
              "      </script>\n",
              "    </div>\n",
              "  </div>\n",
              "  "
            ]
          },
          "metadata": {},
          "execution_count": 19
        }
      ]
    },
    {
      "cell_type": "code",
      "source": [
        "corr_df = H2_f.corr()\n",
        "corr_df = corr_df.apply(lambda x: round(x ,2))\n",
        "corr_df"
      ],
      "metadata": {
        "colab": {
          "base_uri": "https://localhost:8080/",
          "height": 175
        },
        "id": "TrOg73doRBYw",
        "outputId": "28ecb598-c5aa-431f-c6ac-464f619f747b"
      },
      "execution_count": null,
      "outputs": [
        {
          "output_type": "execute_result",
          "data": {
            "text/plain": [
              "            CREATININE  SGOT_AST  SGPT_ALT  DRINK\n",
              "CREATININE        1.00      0.03      0.06   0.07\n",
              "SGOT_AST          0.03      1.00      0.80   0.04\n",
              "SGPT_ALT          0.06      0.80      1.00   0.07\n",
              "DRINK             0.07      0.04      0.07   1.00"
            ],
            "text/html": [
              "\n",
              "  <div id=\"df-14d46b44-518f-4da4-b870-ad263dc71cd7\">\n",
              "    <div class=\"colab-df-container\">\n",
              "      <div>\n",
              "<style scoped>\n",
              "    .dataframe tbody tr th:only-of-type {\n",
              "        vertical-align: middle;\n",
              "    }\n",
              "\n",
              "    .dataframe tbody tr th {\n",
              "        vertical-align: top;\n",
              "    }\n",
              "\n",
              "    .dataframe thead th {\n",
              "        text-align: right;\n",
              "    }\n",
              "</style>\n",
              "<table border=\"1\" class=\"dataframe\">\n",
              "  <thead>\n",
              "    <tr style=\"text-align: right;\">\n",
              "      <th></th>\n",
              "      <th>CREATININE</th>\n",
              "      <th>SGOT_AST</th>\n",
              "      <th>SGPT_ALT</th>\n",
              "      <th>DRINK</th>\n",
              "    </tr>\n",
              "  </thead>\n",
              "  <tbody>\n",
              "    <tr>\n",
              "      <th>CREATININE</th>\n",
              "      <td>1.00</td>\n",
              "      <td>0.03</td>\n",
              "      <td>0.06</td>\n",
              "      <td>0.07</td>\n",
              "    </tr>\n",
              "    <tr>\n",
              "      <th>SGOT_AST</th>\n",
              "      <td>0.03</td>\n",
              "      <td>1.00</td>\n",
              "      <td>0.80</td>\n",
              "      <td>0.04</td>\n",
              "    </tr>\n",
              "    <tr>\n",
              "      <th>SGPT_ALT</th>\n",
              "      <td>0.06</td>\n",
              "      <td>0.80</td>\n",
              "      <td>1.00</td>\n",
              "      <td>0.07</td>\n",
              "    </tr>\n",
              "    <tr>\n",
              "      <th>DRINK</th>\n",
              "      <td>0.07</td>\n",
              "      <td>0.04</td>\n",
              "      <td>0.07</td>\n",
              "      <td>1.00</td>\n",
              "    </tr>\n",
              "  </tbody>\n",
              "</table>\n",
              "</div>\n",
              "      <button class=\"colab-df-convert\" onclick=\"convertToInteractive('df-14d46b44-518f-4da4-b870-ad263dc71cd7')\"\n",
              "              title=\"Convert this dataframe to an interactive table.\"\n",
              "              style=\"display:none;\">\n",
              "        \n",
              "  <svg xmlns=\"http://www.w3.org/2000/svg\" height=\"24px\"viewBox=\"0 0 24 24\"\n",
              "       width=\"24px\">\n",
              "    <path d=\"M0 0h24v24H0V0z\" fill=\"none\"/>\n",
              "    <path d=\"M18.56 5.44l.94 2.06.94-2.06 2.06-.94-2.06-.94-.94-2.06-.94 2.06-2.06.94zm-11 1L8.5 8.5l.94-2.06 2.06-.94-2.06-.94L8.5 2.5l-.94 2.06-2.06.94zm10 10l.94 2.06.94-2.06 2.06-.94-2.06-.94-.94-2.06-.94 2.06-2.06.94z\"/><path d=\"M17.41 7.96l-1.37-1.37c-.4-.4-.92-.59-1.43-.59-.52 0-1.04.2-1.43.59L10.3 9.45l-7.72 7.72c-.78.78-.78 2.05 0 2.83L4 21.41c.39.39.9.59 1.41.59.51 0 1.02-.2 1.41-.59l7.78-7.78 2.81-2.81c.8-.78.8-2.07 0-2.86zM5.41 20L4 18.59l7.72-7.72 1.47 1.35L5.41 20z\"/>\n",
              "  </svg>\n",
              "      </button>\n",
              "      \n",
              "  <style>\n",
              "    .colab-df-container {\n",
              "      display:flex;\n",
              "      flex-wrap:wrap;\n",
              "      gap: 12px;\n",
              "    }\n",
              "\n",
              "    .colab-df-convert {\n",
              "      background-color: #E8F0FE;\n",
              "      border: none;\n",
              "      border-radius: 50%;\n",
              "      cursor: pointer;\n",
              "      display: none;\n",
              "      fill: #1967D2;\n",
              "      height: 32px;\n",
              "      padding: 0 0 0 0;\n",
              "      width: 32px;\n",
              "    }\n",
              "\n",
              "    .colab-df-convert:hover {\n",
              "      background-color: #E2EBFA;\n",
              "      box-shadow: 0px 1px 2px rgba(60, 64, 67, 0.3), 0px 1px 3px 1px rgba(60, 64, 67, 0.15);\n",
              "      fill: #174EA6;\n",
              "    }\n",
              "\n",
              "    [theme=dark] .colab-df-convert {\n",
              "      background-color: #3B4455;\n",
              "      fill: #D2E3FC;\n",
              "    }\n",
              "\n",
              "    [theme=dark] .colab-df-convert:hover {\n",
              "      background-color: #434B5C;\n",
              "      box-shadow: 0px 1px 3px 1px rgba(0, 0, 0, 0.15);\n",
              "      filter: drop-shadow(0px 1px 2px rgba(0, 0, 0, 0.3));\n",
              "      fill: #FFFFFF;\n",
              "    }\n",
              "  </style>\n",
              "\n",
              "      <script>\n",
              "        const buttonEl =\n",
              "          document.querySelector('#df-14d46b44-518f-4da4-b870-ad263dc71cd7 button.colab-df-convert');\n",
              "        buttonEl.style.display =\n",
              "          google.colab.kernel.accessAllowed ? 'block' : 'none';\n",
              "\n",
              "        async function convertToInteractive(key) {\n",
              "          const element = document.querySelector('#df-14d46b44-518f-4da4-b870-ad263dc71cd7');\n",
              "          const dataTable =\n",
              "            await google.colab.kernel.invokeFunction('convertToInteractive',\n",
              "                                                     [key], {});\n",
              "          if (!dataTable) return;\n",
              "\n",
              "          const docLinkHtml = 'Like what you see? Visit the ' +\n",
              "            '<a target=\"_blank\" href=https://colab.research.google.com/notebooks/data_table.ipynb>data table notebook</a>'\n",
              "            + ' to learn more about interactive tables.';\n",
              "          element.innerHTML = '';\n",
              "          dataTable['output_type'] = 'display_data';\n",
              "          await google.colab.output.renderOutput(dataTable, element);\n",
              "          const docLink = document.createElement('div');\n",
              "          docLink.innerHTML = docLinkHtml;\n",
              "          element.appendChild(docLink);\n",
              "        }\n",
              "      </script>\n",
              "    </div>\n",
              "  </div>\n",
              "  "
            ]
          },
          "metadata": {},
          "execution_count": 20
        }
      ]
    },
    {
      "cell_type": "code",
      "source": [
        "s = corr_df.unstack()"
      ],
      "metadata": {
        "id": "NoxfHwejfpUF"
      },
      "execution_count": null,
      "outputs": []
    },
    {
      "cell_type": "code",
      "source": [
        "df = pd.DataFrame(s[s < 1].sort_values(ascending=False), columns=['corr'])\n",
        "df.style.background_gradient(cmap='viridis')"
      ],
      "metadata": {
        "colab": {
          "base_uri": "https://localhost:8080/",
          "height": 426
        },
        "id": "2SV2Hyvbfz1o",
        "outputId": "3d74ffd4-6978-42f1-8b93-cbcfb502712d"
      },
      "execution_count": null,
      "outputs": [
        {
          "output_type": "execute_result",
          "data": {
            "text/plain": [
              "<pandas.io.formats.style.Styler at 0x7fab88f57310>"
            ],
            "text/html": [
              "<style type=\"text/css\">\n",
              "#T_1a8ba_row0_col0, #T_1a8ba_row1_col0 {\n",
              "  background-color: #fde725;\n",
              "  color: #000000;\n",
              "}\n",
              "#T_1a8ba_row2_col0, #T_1a8ba_row3_col0, #T_1a8ba_row4_col0, #T_1a8ba_row5_col0 {\n",
              "  background-color: #481467;\n",
              "  color: #f1f1f1;\n",
              "}\n",
              "#T_1a8ba_row6_col0, #T_1a8ba_row7_col0 {\n",
              "  background-color: #470e61;\n",
              "  color: #f1f1f1;\n",
              "}\n",
              "#T_1a8ba_row8_col0, #T_1a8ba_row9_col0 {\n",
              "  background-color: #450559;\n",
              "  color: #f1f1f1;\n",
              "}\n",
              "#T_1a8ba_row10_col0, #T_1a8ba_row11_col0 {\n",
              "  background-color: #440154;\n",
              "  color: #f1f1f1;\n",
              "}\n",
              "</style>\n",
              "<table id=\"T_1a8ba_\" class=\"dataframe\">\n",
              "  <thead>\n",
              "    <tr>\n",
              "      <th class=\"blank\" >&nbsp;</th>\n",
              "      <th class=\"blank level0\" >&nbsp;</th>\n",
              "      <th class=\"col_heading level0 col0\" >corr</th>\n",
              "    </tr>\n",
              "  </thead>\n",
              "  <tbody>\n",
              "    <tr>\n",
              "      <th id=\"T_1a8ba_level0_row0\" class=\"row_heading level0 row0\" >SGOT_AST</th>\n",
              "      <th id=\"T_1a8ba_level1_row0\" class=\"row_heading level1 row0\" >SGPT_ALT</th>\n",
              "      <td id=\"T_1a8ba_row0_col0\" class=\"data row0 col0\" >0.800000</td>\n",
              "    </tr>\n",
              "    <tr>\n",
              "      <th id=\"T_1a8ba_level0_row1\" class=\"row_heading level0 row1\" >SGPT_ALT</th>\n",
              "      <th id=\"T_1a8ba_level1_row1\" class=\"row_heading level1 row1\" >SGOT_AST</th>\n",
              "      <td id=\"T_1a8ba_row1_col0\" class=\"data row1 col0\" >0.800000</td>\n",
              "    </tr>\n",
              "    <tr>\n",
              "      <th id=\"T_1a8ba_level0_row2\" class=\"row_heading level0 row2\" >CREATININE</th>\n",
              "      <th id=\"T_1a8ba_level1_row2\" class=\"row_heading level1 row2\" >DRINK</th>\n",
              "      <td id=\"T_1a8ba_row2_col0\" class=\"data row2 col0\" >0.070000</td>\n",
              "    </tr>\n",
              "    <tr>\n",
              "      <th id=\"T_1a8ba_level0_row3\" class=\"row_heading level0 row3\" >SGPT_ALT</th>\n",
              "      <th id=\"T_1a8ba_level1_row3\" class=\"row_heading level1 row3\" >DRINK</th>\n",
              "      <td id=\"T_1a8ba_row3_col0\" class=\"data row3 col0\" >0.070000</td>\n",
              "    </tr>\n",
              "    <tr>\n",
              "      <th id=\"T_1a8ba_level0_row4\" class=\"row_heading level0 row4\" rowspan=\"2\">DRINK</th>\n",
              "      <th id=\"T_1a8ba_level1_row4\" class=\"row_heading level1 row4\" >CREATININE</th>\n",
              "      <td id=\"T_1a8ba_row4_col0\" class=\"data row4 col0\" >0.070000</td>\n",
              "    </tr>\n",
              "    <tr>\n",
              "      <th id=\"T_1a8ba_level1_row5\" class=\"row_heading level1 row5\" >SGPT_ALT</th>\n",
              "      <td id=\"T_1a8ba_row5_col0\" class=\"data row5 col0\" >0.070000</td>\n",
              "    </tr>\n",
              "    <tr>\n",
              "      <th id=\"T_1a8ba_level0_row6\" class=\"row_heading level0 row6\" >CREATININE</th>\n",
              "      <th id=\"T_1a8ba_level1_row6\" class=\"row_heading level1 row6\" >SGPT_ALT</th>\n",
              "      <td id=\"T_1a8ba_row6_col0\" class=\"data row6 col0\" >0.060000</td>\n",
              "    </tr>\n",
              "    <tr>\n",
              "      <th id=\"T_1a8ba_level0_row7\" class=\"row_heading level0 row7\" >SGPT_ALT</th>\n",
              "      <th id=\"T_1a8ba_level1_row7\" class=\"row_heading level1 row7\" >CREATININE</th>\n",
              "      <td id=\"T_1a8ba_row7_col0\" class=\"data row7 col0\" >0.060000</td>\n",
              "    </tr>\n",
              "    <tr>\n",
              "      <th id=\"T_1a8ba_level0_row8\" class=\"row_heading level0 row8\" >SGOT_AST</th>\n",
              "      <th id=\"T_1a8ba_level1_row8\" class=\"row_heading level1 row8\" >DRINK</th>\n",
              "      <td id=\"T_1a8ba_row8_col0\" class=\"data row8 col0\" >0.040000</td>\n",
              "    </tr>\n",
              "    <tr>\n",
              "      <th id=\"T_1a8ba_level0_row9\" class=\"row_heading level0 row9\" >DRINK</th>\n",
              "      <th id=\"T_1a8ba_level1_row9\" class=\"row_heading level1 row9\" >SGOT_AST</th>\n",
              "      <td id=\"T_1a8ba_row9_col0\" class=\"data row9 col0\" >0.040000</td>\n",
              "    </tr>\n",
              "    <tr>\n",
              "      <th id=\"T_1a8ba_level0_row10\" class=\"row_heading level0 row10\" >CREATININE</th>\n",
              "      <th id=\"T_1a8ba_level1_row10\" class=\"row_heading level1 row10\" >SGOT_AST</th>\n",
              "      <td id=\"T_1a8ba_row10_col0\" class=\"data row10 col0\" >0.030000</td>\n",
              "    </tr>\n",
              "    <tr>\n",
              "      <th id=\"T_1a8ba_level0_row11\" class=\"row_heading level0 row11\" >SGOT_AST</th>\n",
              "      <th id=\"T_1a8ba_level1_row11\" class=\"row_heading level1 row11\" >CREATININE</th>\n",
              "      <td id=\"T_1a8ba_row11_col0\" class=\"data row11 col0\" >0.030000</td>\n",
              "    </tr>\n",
              "  </tbody>\n",
              "</table>\n"
            ]
          },
          "metadata": {},
          "execution_count": 22
        }
      ]
    },
    {
      "cell_type": "code",
      "source": [
        "ax = sns.heatmap(corr_df, annot=True, annot_kws=dict(color='g'), cmap='Greys')\n",
        "plt.show()"
      ],
      "metadata": {
        "colab": {
          "base_uri": "https://localhost:8080/",
          "height": 270
        },
        "id": "ISVGLtdIgFBK",
        "outputId": "e407f534-75f1-4b31-b558-5d6e1f369fd7"
      },
      "execution_count": null,
      "outputs": [
        {
          "output_type": "display_data",
          "data": {
            "text/plain": [
              "<Figure size 432x288 with 2 Axes>"
            ],
            "image/png": "[encoded data removed]"
          },
          "metadata": {
            "needs_background": "light"
          }
        }
      ]
    },
    {
      "cell_type": "markdown",
      "source": [
        "위의 데이터는 음주여부와 간수치 간의 상관관계를 알아보기 위해서 시각화를 진행했다.\n",
        "혈액검사에서 간기능을 나타내는 혈청크레아티닌, 혈청지오티AST, 혈청지오티ALT 수치는 연속형으로 주어져 데이터 전처리로 정규화 과정을 거쳤다. 상관관계 분석 이후 데이터프레임의 style 프로퍼티를 사용하여 간단하게 시각화했다. 이후 seaborn을 사용하여 heatmap을 그렸다. 음주여부인 Drink와 다른 요소들을 비교해보면, AST와 ALT는 비교적 높은 수치를 나타냈으나 수치가 0.07로 명확한 상관관계가 존재한다고 보기는 어렵다. 다만, ALT와 AST 수치는 0.8로 높은 관계성을 확인할 수 있었으며, 이에 따라서 ALT 혹은 AST 수치가 높다면 다른 하나도 높을 것으로 예측할 수 있을 것이다.\n"
      ],
      "metadata": {
        "id": "rJtbt3xnYnHR"
      }
    },
    {
      "cell_type": "markdown",
      "source": [
        "##3. 비만평가의 일종인 BMI와 WHtR의 비교"
      ],
      "metadata": {
        "id": "mFcH9G8GIizG"
      }
    },
    {
      "cell_type": "code",
      "source": [
        " # 비만도 BMI = kg/m제곱\n",
        " # 허리-신장 비율 WHtR = inch/키 (1inch=2.54cm)"
      ],
      "metadata": {
        "id": "8jAJtgYKC0bA"
      },
      "execution_count": null,
      "outputs": []
    },
    {
      "cell_type": "code",
      "source": [
        "H3=data[['신장(5Cm단위)', '체중(5Kg 단위)','허리둘레','성별코드']]"
      ],
      "metadata": {
        "id": "FotE45t9tAdk"
      },
      "execution_count": 187,
      "outputs": []
    },
    {
      "cell_type": "code",
      "source": [
        "H3['BMI'] =H3['체중(5Kg 단위)']/(H3['신장(5Cm단위)']/100)**2\n",
        "H3['BMI']"
      ],
      "metadata": {
        "colab": {
          "base_uri": "https://localhost:8080/"
        },
        "id": "p93Leirwy5qs",
        "outputId": "7b959ee5-6edc-47ff-b104-68702d0bfa61"
      },
      "execution_count": 188,
      "outputs": [
        {
          "output_type": "stream",
          "name": "stderr",
          "text": [
            "/usr/local/lib/python3.7/dist-packages/ipykernel_launcher.py:1: SettingWithCopyWarning: \n",
            "A value is trying to be set on a copy of a slice from a DataFrame.\n",
            "Try using .loc[row_indexer,col_indexer] = value instead\n",
            "\n",
            "See the caveats in the documentation: https://pandas.pydata.org/pandas-docs/stable/user_guide/indexing.html#returning-a-view-versus-a-copy\n",
            "  \"\"\"Entry point for launching an IPython kernel.\n"
          ]
        },
        {
          "output_type": "execute_result",
          "data": {
            "text/plain": [
              "0       22.038567\n",
              "1       28.888889\n",
              "2       22.892820\n",
              "3       27.343750\n",
              "4       20.811655\n",
              "          ...    \n",
              "9995    22.892820\n",
              "9996    21.484375\n",
              "9997    31.250000\n",
              "9998    22.892820\n",
              "9999    29.296875\n",
              "Name: BMI, Length: 10000, dtype: float64"
            ]
          },
          "metadata": {},
          "execution_count": 188
        }
      ]
    },
    {
      "cell_type": "code",
      "source": [
        "H3['WHtR']= H3['허리둘레']/2.54/H3['신장(5Cm단위)']\n",
        "H3['WHtR']"
      ],
      "metadata": {
        "colab": {
          "base_uri": "https://localhost:8080/"
        },
        "id": "rcRScG-ZyoOg",
        "outputId": "6a11efe7-5b7b-4078-9433-47e773239d8a"
      },
      "execution_count": 189,
      "outputs": [
        {
          "output_type": "stream",
          "name": "stderr",
          "text": [
            "/usr/local/lib/python3.7/dist-packages/ipykernel_launcher.py:1: SettingWithCopyWarning: \n",
            "A value is trying to be set on a copy of a slice from a DataFrame.\n",
            "Try using .loc[row_indexer,col_indexer] = value instead\n",
            "\n",
            "See the caveats in the documentation: https://pandas.pydata.org/pandas-docs/stable/user_guide/indexing.html#returning-a-view-versus-a-copy\n",
            "  \"\"\"Entry point for launching an IPython kernel.\n"
          ]
        },
        {
          "output_type": "execute_result",
          "data": {
            "text/plain": [
              "0       0.172035\n",
              "1       0.212598\n",
              "2       0.177800\n",
              "3       0.223425\n",
              "4       0.191008\n",
              "          ...   \n",
              "9995    0.210820\n",
              "9996    0.190699\n",
              "9997    0.228839\n",
              "9998    0.198120\n",
              "9999    0.246063\n",
              "Name: WHtR, Length: 10000, dtype: float64"
            ]
          },
          "metadata": {},
          "execution_count": 189
        }
      ]
    },
    {
      "cell_type": "code",
      "source": [
        "H3.rename (columns = {'성별코드':'Gender'},inplace=True)"
      ],
      "metadata": {
        "id": "3a7rmsDC2gg5"
      },
      "execution_count": 194,
      "outputs": []
    },
    {
      "cell_type": "code",
      "source": [
        "H3_X=H3[['BMI','WHtR']]"
      ],
      "metadata": {
        "id": "Fuc3YvLYKUAt"
      },
      "execution_count": 196,
      "outputs": []
    },
    {
      "cell_type": "code",
      "source": [
        "H3_y=H3[['Gender']]"
      ],
      "metadata": {
        "id": "dqhdPjSH3Zz5"
      },
      "execution_count": 195,
      "outputs": []
    },
    {
      "cell_type": "code",
      "source": [
        "scaler1=StandardScaler()\n",
        "scaler1.fit(H3_X)\n",
        "H3_X_scaled1=scaler1.transform(H3_X)\n",
        "H3_X_scaled=pd.DataFrame(H3_X_scaled1)\n",
        "H3_X_scaled.columns=['BMI','WHtR']\n",
        "H3_X_scaled"
      ],
      "metadata": {
        "colab": {
          "base_uri": "https://localhost:8080/",
          "height": 424
        },
        "id": "EiTWRzhpWDKb",
        "outputId": "cae6b6d5-7360-48b9-8d59-dbf92fadcfe6"
      },
      "execution_count": 197,
      "outputs": [
        {
          "output_type": "execute_result",
          "data": {
            "text/plain": [
              "           BMI      WHtR\n",
              "0    -0.620949 -1.303360\n",
              "1     1.343200  0.480520\n",
              "2    -0.376015 -1.049825\n",
              "3     0.900172  0.956659\n",
              "4    -0.972734 -0.468964\n",
              "...        ...       ...\n",
              "9995 -0.376015  0.402327\n",
              "9996 -0.779849 -0.482578\n",
              "9997  2.020187  1.194728\n",
              "9998 -0.376015 -0.156193\n",
              "9999  1.460179  1.952221\n",
              "\n",
              "[10000 rows x 2 columns]"
            ],
            "text/html": [
              "\n",
              "  <div id=\"df-494c8efe-4f2a-4b27-9f8a-73d87f3e4bf8\">\n",
              "    <div class=\"colab-df-container\">\n",
              "      <div>\n",
              "<style scoped>\n",
              "    .dataframe tbody tr th:only-of-type {\n",
              "        vertical-align: middle;\n",
              "    }\n",
              "\n",
              "    .dataframe tbody tr th {\n",
              "        vertical-align: top;\n",
              "    }\n",
              "\n",
              "    .dataframe thead th {\n",
              "        text-align: right;\n",
              "    }\n",
              "</style>\n",
              "<table border=\"1\" class=\"dataframe\">\n",
              "  <thead>\n",
              "    <tr style=\"text-align: right;\">\n",
              "      <th></th>\n",
              "      <th>BMI</th>\n",
              "      <th>WHtR</th>\n",
              "    </tr>\n",
              "  </thead>\n",
              "  <tbody>\n",
              "    <tr>\n",
              "      <th>0</th>\n",
              "      <td>-0.620949</td>\n",
              "      <td>-1.303360</td>\n",
              "    </tr>\n",
              "    <tr>\n",
              "      <th>1</th>\n",
              "      <td>1.343200</td>\n",
              "      <td>0.480520</td>\n",
              "    </tr>\n",
              "    <tr>\n",
              "      <th>2</th>\n",
              "      <td>-0.376015</td>\n",
              "      <td>-1.049825</td>\n",
              "    </tr>\n",
              "    <tr>\n",
              "      <th>3</th>\n",
              "      <td>0.900172</td>\n",
              "      <td>0.956659</td>\n",
              "    </tr>\n",
              "    <tr>\n",
              "      <th>4</th>\n",
              "      <td>-0.972734</td>\n",
              "      <td>-0.468964</td>\n",
              "    </tr>\n",
              "    <tr>\n",
              "      <th>...</th>\n",
              "      <td>...</td>\n",
              "      <td>...</td>\n",
              "    </tr>\n",
              "    <tr>\n",
              "      <th>9995</th>\n",
              "      <td>-0.376015</td>\n",
              "      <td>0.402327</td>\n",
              "    </tr>\n",
              "    <tr>\n",
              "      <th>9996</th>\n",
              "      <td>-0.779849</td>\n",
              "      <td>-0.482578</td>\n",
              "    </tr>\n",
              "    <tr>\n",
              "      <th>9997</th>\n",
              "      <td>2.020187</td>\n",
              "      <td>1.194728</td>\n",
              "    </tr>\n",
              "    <tr>\n",
              "      <th>9998</th>\n",
              "      <td>-0.376015</td>\n",
              "      <td>-0.156193</td>\n",
              "    </tr>\n",
              "    <tr>\n",
              "      <th>9999</th>\n",
              "      <td>1.460179</td>\n",
              "      <td>1.952221</td>\n",
              "    </tr>\n",
              "  </tbody>\n",
              "</table>\n",
              "<p>10000 rows × 2 columns</p>\n",
              "</div>\n",
              "      <button class=\"colab-df-convert\" onclick=\"convertToInteractive('df-494c8efe-4f2a-4b27-9f8a-73d87f3e4bf8')\"\n",
              "              title=\"Convert this dataframe to an interactive table.\"\n",
              "              style=\"display:none;\">\n",
              "        \n",
              "  <svg xmlns=\"http://www.w3.org/2000/svg\" height=\"24px\"viewBox=\"0 0 24 24\"\n",
              "       width=\"24px\">\n",
              "    <path d=\"M0 0h24v24H0V0z\" fill=\"none\"/>\n",
              "    <path d=\"M18.56 5.44l.94 2.06.94-2.06 2.06-.94-2.06-.94-.94-2.06-.94 2.06-2.06.94zm-11 1L8.5 8.5l.94-2.06 2.06-.94-2.06-.94L8.5 2.5l-.94 2.06-2.06.94zm10 10l.94 2.06.94-2.06 2.06-.94-2.06-.94-.94-2.06-.94 2.06-2.06.94z\"/><path d=\"M17.41 7.96l-1.37-1.37c-.4-.4-.92-.59-1.43-.59-.52 0-1.04.2-1.43.59L10.3 9.45l-7.72 7.72c-.78.78-.78 2.05 0 2.83L4 21.41c.39.39.9.59 1.41.59.51 0 1.02-.2 1.41-.59l7.78-7.78 2.81-2.81c.8-.78.8-2.07 0-2.86zM5.41 20L4 18.59l7.72-7.72 1.47 1.35L5.41 20z\"/>\n",
              "  </svg>\n",
              "      </button>\n",
              "      \n",
              "  <style>\n",
              "    .colab-df-container {\n",
              "      display:flex;\n",
              "      flex-wrap:wrap;\n",
              "      gap: 12px;\n",
              "    }\n",
              "\n",
              "    .colab-df-convert {\n",
              "      background-color: #E8F0FE;\n",
              "      border: none;\n",
              "      border-radius: 50%;\n",
              "      cursor: pointer;\n",
              "      display: none;\n",
              "      fill: #1967D2;\n",
              "      height: 32px;\n",
              "      padding: 0 0 0 0;\n",
              "      width: 32px;\n",
              "    }\n",
              "\n",
              "    .colab-df-convert:hover {\n",
              "      background-color: #E2EBFA;\n",
              "      box-shadow: 0px 1px 2px rgba(60, 64, 67, 0.3), 0px 1px 3px 1px rgba(60, 64, 67, 0.15);\n",
              "      fill: #174EA6;\n",
              "    }\n",
              "\n",
              "    [theme=dark] .colab-df-convert {\n",
              "      background-color: #3B4455;\n",
              "      fill: #D2E3FC;\n",
              "    }\n",
              "\n",
              "    [theme=dark] .colab-df-convert:hover {\n",
              "      background-color: #434B5C;\n",
              "      box-shadow: 0px 1px 3px 1px rgba(0, 0, 0, 0.15);\n",
              "      filter: drop-shadow(0px 1px 2px rgba(0, 0, 0, 0.3));\n",
              "      fill: #FFFFFF;\n",
              "    }\n",
              "  </style>\n",
              "\n",
              "      <script>\n",
              "        const buttonEl =\n",
              "          document.querySelector('#df-494c8efe-4f2a-4b27-9f8a-73d87f3e4bf8 button.colab-df-convert');\n",
              "        buttonEl.style.display =\n",
              "          google.colab.kernel.accessAllowed ? 'block' : 'none';\n",
              "\n",
              "        async function convertToInteractive(key) {\n",
              "          const element = document.querySelector('#df-494c8efe-4f2a-4b27-9f8a-73d87f3e4bf8');\n",
              "          const dataTable =\n",
              "            await google.colab.kernel.invokeFunction('convertToInteractive',\n",
              "                                                     [key], {});\n",
              "          if (!dataTable) return;\n",
              "\n",
              "          const docLinkHtml = 'Like what you see? Visit the ' +\n",
              "            '<a target=\"_blank\" href=https://colab.research.google.com/notebooks/data_table.ipynb>data table notebook</a>'\n",
              "            + ' to learn more about interactive tables.';\n",
              "          element.innerHTML = '';\n",
              "          dataTable['output_type'] = 'display_data';\n",
              "          await google.colab.output.renderOutput(dataTable, element);\n",
              "          const docLink = document.createElement('div');\n",
              "          docLink.innerHTML = docLinkHtml;\n",
              "          element.appendChild(docLink);\n",
              "        }\n",
              "      </script>\n",
              "    </div>\n",
              "  </div>\n",
              "  "
            ]
          },
          "metadata": {},
          "execution_count": 197
        }
      ]
    },
    {
      "cell_type": "code",
      "source": [
        "plt.tight_layout()\n",
        "\n",
        "plt.subplot(1, 2, 1)\n",
        "plt.ylim([-3, 4])\n",
        "sns.boxplot(y = H3_X_scaled['BMI'], x = H3_y['Gender'])\n",
        "\n",
        "plt.subplot(1, 2, 2)\n",
        "plt.ylim([-3, 4])\n",
        "sns.boxplot(y = H3_X_scaled['WHtR'], x = H3_y['Gender'])\n",
        "\n",
        "plt.show()"
      ],
      "metadata": {
        "colab": {
          "base_uri": "https://localhost:8080/",
          "height": 283
        },
        "id": "ypr-4xr82MtQ",
        "outputId": "4d299d42-50c4-40b4-fc5a-754a80291cc4"
      },
      "execution_count": 215,
      "outputs": [
        {
          "output_type": "display_data",
          "data": {
            "text/plain": [
              "<Figure size 432x288 with 2 Axes>"
            ],
            "image/png": "[encoded data removed]"
          },
          "metadata": {
            "needs_background": "light"
          }
        }
      ]
    },
    {
      "cell_type": "markdown",
      "source": [
        "체중을 기반으로 비만정도를 측정하는 BMI 지수와 함께 허리둘레로 비만정도를 측정하는 WHtR 지수를 비교하고자 하였다. 신장(5Cm단위),체중(5Kg 단위),허리둘레의 데이터를 활용하여 비만지수를 측정하였고 성별을 기준으로 박스플롯으로 시각화를 진행했다. 전반적으로 중앙값이 BMI는 남성이 여성보다 조금 더 높은 형태를 보였지만, WHtR 지수는 남성과 여성의 큰 차이가 보이지 않았다. WHtR은 최솟값과 최댓값의 범위가 BMI에 비교해서 더 넓게 분포되어 있다. 개개인별의 편차가 좀 더 큰 WHtR이 조금 더 넓은 범위의 비만도를 잘 커버했다고 해석할 수도 있을 것이다."
      ],
      "metadata": {
        "id": "j9uQaKKB9eqk"
      }
    }
  ]
}